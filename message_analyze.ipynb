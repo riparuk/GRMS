{
 "cells": [
  {
   "cell_type": "code",
   "execution_count": 2,
   "metadata": {},
   "outputs": [],
   "source": [
    "import numpy as np\n",
    "import matplotlib.pyplot as plt\n",
    "import seaborn as sns\n",
    "import pandas as pd\n",
    "import re\n",
    "from sklearn.model_selection import train_test_split\n",
    "from sklearn.preprocessing import LabelEncoder\n",
    "from keras.preprocessing.text import Tokenizer\n",
    "from keras.preprocessing.sequence import pad_sequences\n",
    "from keras.models import Sequential\n",
    "from keras.layers import Embedding, LSTM, Dense, Dropout\n",
    "from keras.utils import to_categorical\n",
    "from imblearn.over_sampling import SMOTE"
   ]
  },
  {
   "cell_type": "code",
   "execution_count": null,
   "metadata": {},
   "outputs": [],
   "source": [
    "import nltk\n",
    "from nltk.corpus import stopwords\n",
    "from nltk.tokenize import word_tokenize\n",
    "from nltk.stem import PorterStemmer\n",
    "\n",
    "def preprocess_text(text):\n",
    "    # Tokenize the text\n",
    "    tokens = word_tokenize(text)\n",
    "    \n",
    "    # Convert to lower case\n",
    "    tokens = [token.lower() for token in tokens]\n",
    "    \n",
    "    # Remove stopwords\n",
    "    stop_words = set(stopwords.words('english'))\n",
    "    filtered_tokens = [token for token in tokens if token not in stop_words]\n",
    "    \n",
    "    # Stem the tokens\n",
    "    stemmer = PorterStemmer()\n",
    "    stemmed_tokens = [stemmer.stem(token) for token in filtered_tokens]\n",
    "    \n",
    "    # Join tokens back into a single string\n",
    "    preprocessed_text = ' '.join(stemmed_tokens)\n",
    "    \n",
    "    return preprocessed_text\n"
   ]
  },
  {
   "cell_type": "code",
   "execution_count": 5,
   "metadata": {},
   "outputs": [],
   "source": [
    "# Text preprocessing function\n",
    "def preprocess_text(text):\n",
    "    text = re.sub(r'[^a-zA-Z0-9\\s]', '', text, re.I|re.A)\n",
    "    text = text.lower()\n",
    "    text = text.strip()\n",
    "    return text\n"
   ]
  },
  {
   "cell_type": "code",
   "execution_count": 3,
   "metadata": {},
   "outputs": [],
   "source": [
    "from langdetect import detect\n",
    "\n",
    "# Function to detect the language of text\n",
    "def detect_language(text):\n",
    "    try:\n",
    "        return detect(text)\n",
    "    except:\n",
    "        return print(\"Error cannot detect language\")"
   ]
  },
  {
   "cell_type": "markdown",
   "metadata": {},
   "source": [
    "# load dataset"
   ]
  },
  {
   "cell_type": "code",
   "execution_count": null,
   "metadata": {},
   "outputs": [],
   "source": [
    "hermes_process_state = pd.read_csv('dataset/hermes_process_states.csv')\n",
    "hermes_process_state.head()"
   ]
  },
  {
   "cell_type": "code",
   "execution_count": null,
   "metadata": {},
   "outputs": [],
   "source": [
    "knowledge_tools = pd.read_csv('dataset/knowledge_tools.csv')\n",
    "knowledge_tools.head()"
   ]
  },
  {
   "cell_type": "code",
   "execution_count": null,
   "metadata": {},
   "outputs": [],
   "source": [
    "knowledge_analysis_categories = pd.read_csv('dataset/knowledge_analysis_categories.csv')\n",
    "\n",
    "knowledge_analysis_categories.sort_values(by='escalation_status', ascending=False, inplace=True)\n",
    "knowledge_analysis_categories"
   ]
  },
  {
   "cell_type": "code",
   "execution_count": null,
   "metadata": {},
   "outputs": [],
   "source": [
    "hermes_process_logs = pd.read_csv('dataset/hermes_process_logs.csv')\n",
    "hermes_process_logs.head()"
   ]
  },
  {
   "cell_type": "code",
   "execution_count": null,
   "metadata": {},
   "outputs": [],
   "source": [
    "hermes_process_logs.info()"
   ]
  },
  {
   "cell_type": "code",
   "execution_count": null,
   "metadata": {},
   "outputs": [],
   "source": [
    "# check null values\n",
    "hermes_process_logs.isnull().sum()"
   ]
  },
  {
   "cell_type": "code",
   "execution_count": null,
   "metadata": {},
   "outputs": [],
   "source": [
    "# drop all null value\n",
    "hermes_process_logs.dropna(inplace=True)"
   ]
  },
  {
   "cell_type": "code",
   "execution_count": null,
   "metadata": {},
   "outputs": [],
   "source": [
    "# categoory count\n",
    "hermes_process_logs['category_name'].value_counts()"
   ]
  },
  {
   "cell_type": "code",
   "execution_count": null,
   "metadata": {},
   "outputs": [],
   "source": [
    "# count anget_name\n",
    "hermes_process_logs['agent_name'].value_counts()"
   ]
  },
  {
   "cell_type": "code",
   "execution_count": null,
   "metadata": {},
   "outputs": [],
   "source": [
    "# delete other agent_name except 'Hosting'\n",
    "hermes_process_logs = hermes_process_logs[hermes_process_logs['agent_name'] == 'Hosting']\n",
    "\n",
    "hermes_process_logs['category_name'].value_counts()"
   ]
  },
  {
   "cell_type": "code",
   "execution_count": null,
   "metadata": {},
   "outputs": [],
   "source": [
    "hermes_process_logs['state_name'].value_counts()"
   ]
  },
  {
   "cell_type": "markdown",
   "metadata": {},
   "source": [
    "## filter by category"
   ]
  },
  {
   "cell_type": "code",
   "execution_count": null,
   "metadata": {},
   "outputs": [],
   "source": [
    "# Step 1: Make a copy of the original DataFrame\n",
    "hermes_process_copy = hermes_process_logs.copy()\n",
    "\n",
    "# Step 2: Drop rows where 'category_name' starts with 'query'\n",
    "hermes_process_copy = hermes_process_copy[~hermes_process_copy['category_name'].str.startswith('query')]\n",
    "\n",
    "# Step 3: Drop rows where 'category_name' starts with 'information'\n",
    "hermes_process_copy = hermes_process_copy[~hermes_process_copy['category_name'].str.startswith('information')]\n",
    "\n",
    "# Step 4: Check unique 'category_name' values in the resulting DataFrame\n",
    "unique_category_names = hermes_process_copy['category_name'].unique()\n",
    "unique_category_names"
   ]
  },
  {
   "cell_type": "code",
   "execution_count": null,
   "metadata": {},
   "outputs": [],
   "source": [
    "# check form the data on last message if it contain the word 'request'\n",
    "request = hermes_process_copy['category_name'].str.contains('request').sum()\n",
    "print(request ==len(hermes_process_copy))"
   ]
  },
  {
   "cell_type": "code",
   "execution_count": null,
   "metadata": {},
   "outputs": [],
   "source": [
    "# new dataframe contain only last message and category_name\n",
    "message = hermes_process_logs[['last_message', 'category_name']]"
   ]
  },
  {
   "cell_type": "code",
   "execution_count": null,
   "metadata": {},
   "outputs": [],
   "source": [
    "# drop duplicate message for the last message\n",
    "message.duplicated().sum()\n",
    "message = message.drop_duplicates().copy()"
   ]
  },
  {
   "cell_type": "code",
   "execution_count": null,
   "metadata": {},
   "outputs": [],
   "source": [
    "message['category_name'].value_counts()"
   ]
  },
  {
   "cell_type": "code",
   "execution_count": null,
   "metadata": {},
   "outputs": [],
   "source": [
    "# Apply preprocessing to 'last_message' column\n",
    "message['last_message_clean'] = message['last_message'].apply(preprocess_text)\n",
    "\n",
    "# Drop messages without any alphabet characters\n",
    "message = message[message['last_message_clean'].str.match('.*[a-zA-Z].*')]\n",
    "\n",
    "# Reset index after dropping rows\n",
    "message.reset_index(drop=True, inplace=True)\n",
    "\n",
    "# Display the preprocessed DataFrame\n",
    "message.head()\n"
   ]
  },
  {
   "cell_type": "code",
   "execution_count": null,
   "metadata": {},
   "outputs": [],
   "source": [
    "# Extracting features using TF-IDF\n",
    "vectorizer = TfidfVectorizer()\n",
    "X = vectorizer.fit_transform(message['last_message_clean'])"
   ]
  },
  {
   "cell_type": "code",
   "execution_count": null,
   "metadata": {},
   "outputs": [],
   "source": [
    "tfidf_df = pd.DataFrame(X.toarray(), columns=vectorizer.get_feature_names_out(), index=message['category_name'])\n",
    "\n",
    "# Group by category and sum the TF-IDF scores for each word\n",
    "tfidf_sums = tfidf_df.groupby(tfidf_df.index).sum()"
   ]
  },
  {
   "cell_type": "code",
   "execution_count": null,
   "metadata": {},
   "outputs": [],
   "source": [
    "# Get the top keywords for each category\n",
    "top_keywords = {}\n",
    "for category in tfidf_sums.index:\n",
    "    top_keywords[category] = tfidf_sums.loc[category].sort_values(ascending=False).head(5).index.tolist()\n",
    "\n",
    "# Display top keywords for each category\n",
    "for category, keywords in top_keywords.items():\n",
    "    print(f\"Category: {category}\")\n",
    "    print(\"Top keywords:\", \", \".join(keywords))"
   ]
  },
  {
   "cell_type": "markdown",
   "metadata": {},
   "source": [
    "# load new clean dataset"
   ]
  },
  {
   "cell_type": "code",
   "execution_count": null,
   "metadata": {},
   "outputs": [],
   "source": [
    "# load request csv into dataframe\n",
    "request = pd.read_csv('dataset/request.csv')\n",
    "request.head() "
   ]
  },
  {
   "cell_type": "code",
   "execution_count": null,
   "metadata": {},
   "outputs": [],
   "source": [
    "# detect language of the of last message\n",
    "request['language'] = request['last_message'].apply(detect_language)"
   ]
  },
  {
   "cell_type": "code",
   "execution_count": null,
   "metadata": {},
   "outputs": [],
   "source": [
    "result = request.groupby(['language', 'category_name']).size().reset_index(name='count')\n",
    "# Pivot the table to get languages as rows, category names as columns, and counts as values\n",
    "pivot_table = result.pivot_table(index='language', columns='category_name', values='count', fill_value=0)\n",
    "pivot_table\n"
   ]
  },
  {
   "cell_type": "code",
   "execution_count": null,
   "metadata": {},
   "outputs": [],
   "source": [
    "# only keep the rows where the 'language' column is 'en'\n",
    "english_requests = request[request['language'] == 'en']\n",
    "english_requests.head()"
   ]
  },
  {
   "cell_type": "code",
   "execution_count": null,
   "metadata": {},
   "outputs": [],
   "source": [
    "english_requests['category_name'].value_counts()"
   ]
  },
  {
   "cell_type": "code",
   "execution_count": null,
   "metadata": {},
   "outputs": [],
   "source": [
    "onsite_requests = english_requests[english_requests['category_name'] == 'request_onsite']"
   ]
  },
  {
   "cell_type": "code",
   "execution_count": null,
   "metadata": {},
   "outputs": [],
   "source": [
    "onsite_requests.head()"
   ]
  },
  {
   "cell_type": "code",
   "execution_count": null,
   "metadata": {},
   "outputs": [],
   "source": [
    "# Truncate the strings in the specified column to the first 40 characters\n",
    "column_name = 'information'\n",
    "onsite_requests[column_name] = onsite_requests[column_name].astype(str).str[:50]\n",
    "\n",
    "# Find the unique values in the truncated column\n",
    "unique_values = onsite_requests[column_name].unique()\n",
    "\n",
    "# Print or save the unique values\n",
    "print(unique_values)"
   ]
  },
  {
   "cell_type": "code",
   "execution_count": null,
   "metadata": {},
   "outputs": [],
   "source": [
    "# preprocess the 'last_message' column \n",
    "english_requests['last_message_clean'] = english_requests['last_message'].apply(preprocess_text)"
   ]
  },
  {
   "cell_type": "code",
   "execution_count": null,
   "metadata": {},
   "outputs": [],
   "source": [
    "english_requests.head()\n",
    "columns = ['category_name', 'last_message_clean']\n",
    "english_requests = english_requests[columns]"
   ]
  },
  {
   "cell_type": "code",
   "execution_count": null,
   "metadata": {},
   "outputs": [],
   "source": [
    "english_requests"
   ]
  },
  {
   "cell_type": "code",
   "execution_count": null,
   "metadata": {},
   "outputs": [],
   "source": [
    "from sklearn.feature_extraction.text import TfidfVectorizer\n",
    "\n",
    "# Extract features using TF-IDF\n",
    "vectorizer = TfidfVectorizer()\n",
    "\n",
    "X = vectorizer.fit_transform(english_requests['last_message_clean'])\n",
    "\n",
    "# find the top keywords for each category\n",
    "tfidf_df = pd.DataFrame(X.toarray(), columns=vectorizer.get_feature_names_out(), index=english_requests['category_name'])\n",
    "\n",
    "tfidf_sums = tfidf_df.groupby(tfidf_df.index).sum()"
   ]
  },
  {
   "cell_type": "code",
   "execution_count": null,
   "metadata": {},
   "outputs": [],
   "source": [
    "top_keywords = {}\n",
    "for category in tfidf_sums.index:\n",
    "    top_keywords[category] = tfidf_sums.loc[category].sort_values(ascending=False).head(10).index.tolist()\n",
    "    \n",
    "# Display top keywords for each category\n",
    "for category, keywords in top_keywords.items():\n",
    "    print(f\"Category: {category}\")\n",
    "    print(\"Top keywords:\", \", \".join(keywords))"
   ]
  },
  {
   "cell_type": "markdown",
   "metadata": {},
   "source": [
    "# bangun model klasifikasi"
   ]
  },
  {
   "cell_type": "code",
   "execution_count": null,
   "metadata": {},
   "outputs": [],
   "source": [
    "model_df = pd.read_csv('dataset/model_df.csv')\n",
    "\n",
    "# random sample of the DataFrame\n",
    "model_df.sample(5)"
   ]
  },
  {
   "cell_type": "code",
   "execution_count": null,
   "metadata": {},
   "outputs": [],
   "source": [
    "# set x and y where x is the 'last_message' column and y is the 'category_name' column\n",
    "X = model_df['last_message']\n",
    "y = model_df['category_name']"
   ]
  },
  {
   "cell_type": "code",
   "execution_count": null,
   "metadata": {},
   "outputs": [],
   "source": [
    "y.value_counts()"
   ]
  },
  {
   "cell_type": "code",
   "execution_count": null,
   "metadata": {},
   "outputs": [],
   "source": [
    "from sklearn.model_selection import train_test_split\n",
    "from sklearn.feature_extraction.text import TfidfVectorizer\n",
    "from sklearn.svm import SVC\n",
    "from sklearn.metrics import classification_report\n",
    "\n",
    "# Step 2: Vectorization\n",
    "vectorizer = TfidfVectorizer()\n",
    "X_vectorized = vectorizer.fit_transform(X)\n",
    "\n",
    "# Step 3: Split Data\n",
    "X_train, X_test, y_train, y_test = train_test_split(X_vectorized, y, test_size=0.2, random_state=42)\n",
    "\n",
    "# Step 4: Choose a Classifier\n",
    "classifier = SVC(kernel='linear')\n",
    "\n",
    "# Step 5: Train the Model\n",
    "classifier.fit(X_train, y_train)\n",
    "\n",
    "# Step 6: Evaluate the Model\n",
    "y_pred = classifier.predict(X_test)\n",
    "print(classification_report(y_test, y_pred))\n",
    "\n",
    "# Step 7: Hyperparameter Tuning (optional)\n",
    "# You can use techniques like GridSearchCV or RandomizedSearchCV to find the best hyperparameters."
   ]
  },
  {
   "cell_type": "code",
   "execution_count": null,
   "metadata": {},
   "outputs": [],
   "source": [
    "# Example new input message\n",
    "new_message = \"there is a leeakage in toilet, please send someone to fix it\"\n",
    "\n",
    "# Step 1: Preprocess the new message\n",
    "new_message_vectorized = vectorizer.transform([new_message])\n",
    "\n",
    "# Step 2: Predict the category using the trained classifier\n",
    "predicted_category = classifier.predict(new_message_vectorized)\n",
    "\n",
    "print(\"Predicted category:\", predicted_category)\n"
   ]
  },
  {
   "cell_type": "code",
   "execution_count": null,
   "metadata": {},
   "outputs": [],
   "source": [
    "from sklearn.model_selection import train_test_split\n",
    "from tensorflow.keras.preprocessing.text import Tokenizer\n",
    "from tensorflow.keras.preprocessing.sequence import pad_sequences\n",
    "from sklearn.preprocessing import LabelEncoder\n",
    "\n",
    "# Split data into training and testing sets\n",
    "X_train, X_test, y_train, y_test = train_test_split(X, y, test_size=0.2, random_state=42)\n",
    "\n",
    "# Tokenize the texts\n",
    "tokenizer = Tokenizer()\n",
    "tokenizer.fit_on_texts(X_train)\n",
    "\n",
    "# Convert text to sequences\n",
    "X_train_seq = tokenizer.texts_to_sequences(X_train)\n",
    "X_test_seq = tokenizer.texts_to_sequences(X_test)\n",
    "\n",
    "# Padding sequences to make them of equal length\n",
    "max_len = max(len(x) for x in X_train_seq)\n",
    "X_train_pad = pad_sequences(X_train_seq, maxlen=max_len, padding='post')\n",
    "X_test_pad = pad_sequences(X_test_seq, maxlen=max_len, padding='post')\n",
    "\n",
    "# Encoding labels\n",
    "label_encoder = LabelEncoder()\n",
    "label_encoder.fit(y_train)\n",
    "y_train_encoded = label_encoder.transform(y_train)\n",
    "y_test_encoded = label_encoder.transform(y_test)\n",
    "num_classes = len(label_encoder.classes_)\n",
    "num_classes"
   ]
  },
  {
   "cell_type": "code",
   "execution_count": null,
   "metadata": {},
   "outputs": [],
   "source": [
    "import tensorflow as tf\n",
    "\n",
    "# Define the LSTM model\n",
    "model = tf.keras.models.Sequential([\n",
    "    tf.keras.layers.Embedding(input_dim=len(tokenizer.word_index)+1, output_dim=100, input_length=max_len),\n",
    "    tf.keras.layers.Bidirectional(tf.keras.layers.LSTM(64, return_sequences=True)),\n",
    "    tf.keras.layers.Bidirectional(tf.keras.layers.LSTM(64)),\n",
    "    tf.keras.layers.Dropout(0.5),\n",
    "    tf.keras.layers.Dense(64, activation='relu')\n",
    "])\n",
    "\n",
    "# Compile the model\n",
    "model.compile(loss='sparse_categorical_crossentropy', optimizer='adam', metrics=['accuracy'])\n",
    "\n",
    "# Train the model\n",
    "model.fit(X_train_pad, y_train_encoded, validation_data=(X_test_pad, y_test_encoded), epochs=10, batch_size=64)\n"
   ]
  },
  {
   "cell_type": "code",
   "execution_count": null,
   "metadata": {},
   "outputs": [],
   "source": [
    "# preprocess the new message\n",
    "new_message = \"there is a leeakage in toilet, please send someone to fix it\"\n",
    "\n",
    "# Convert the new message to a sequence\n",
    "new_message_seq = tokenizer.texts_to_sequences([new_message])\n",
    "\n",
    "# Pad the sequence\n",
    "new_message_pad = pad_sequences(new_message_seq, maxlen=max_len, padding='post')\n",
    "\n",
    "# Predict the category\n",
    "predicted_category = model.predict(new_message_pad)\n",
    "predicted_category = label_encoder.inverse_transform([np.argmax(predicted_category)])\n",
    "\n",
    "print(\"Predicted category:\", predicted_category[0])\n"
   ]
  },
  {
   "cell_type": "code",
   "execution_count": null,
   "metadata": {},
   "outputs": [],
   "source": [
    "# save the model as h5 file\n",
    "model.save('model.h5')"
   ]
  },
  {
   "cell_type": "markdown",
   "metadata": {},
   "source": [
    "# try new model"
   ]
  },
  {
   "cell_type": "code",
   "execution_count": 17,
   "metadata": {},
   "outputs": [
    {
     "name": "stdout",
     "output_type": "stream",
     "text": [
      "<class 'pandas.core.frame.DataFrame'>\n",
      "RangeIndex: 58761 entries, 0 to 58760\n",
      "Data columns (total 2 columns):\n",
      " #   Column         Non-Null Count  Dtype \n",
      "---  ------         --------------  ----- \n",
      " 0   last_message   58761 non-null  object\n",
      " 1   category_name  58761 non-null  object\n",
      "dtypes: object(2)\n",
      "memory usage: 918.3+ KB\n"
     ]
    }
   ],
   "source": [
    "data = pd.read_csv('dataset/model_df2.csv')\n",
    "data.info()"
   ]
  },
  {
   "cell_type": "code",
   "execution_count": 18,
   "metadata": {},
   "outputs": [],
   "source": [
    "data['cleaned_message'] = data['last_message'].apply(preprocess_text)"
   ]
  },
  {
   "cell_type": "code",
   "execution_count": 19,
   "metadata": {},
   "outputs": [],
   "source": [
    "# Create binary labels\n",
    "data['is_onsite'] = data['category_name'] == 'request_onsite'"
   ]
  },
  {
   "cell_type": "code",
   "execution_count": 20,
   "metadata": {},
   "outputs": [
    {
     "name": "stdout",
     "output_type": "stream",
     "text": [
      "<class 'pandas.core.frame.DataFrame'>\n",
      "RangeIndex: 58761 entries, 0 to 58760\n",
      "Data columns (total 4 columns):\n",
      " #   Column           Non-Null Count  Dtype \n",
      "---  ------           --------------  ----- \n",
      " 0   last_message     58761 non-null  object\n",
      " 1   category_name    58761 non-null  object\n",
      " 2   cleaned_message  58761 non-null  object\n",
      " 3   is_onsite        58761 non-null  bool  \n",
      "dtypes: bool(1), object(3)\n",
      "memory usage: 1.4+ MB\n"
     ]
    }
   ],
   "source": [
    "data.info()"
   ]
  },
  {
   "cell_type": "code",
   "execution_count": 21,
   "metadata": {},
   "outputs": [
    {
     "data": {
      "text/plain": [
       "count    58761.000000\n",
       "mean        93.509624\n",
       "std        125.545457\n",
       "min          0.000000\n",
       "25%         26.000000\n",
       "50%         59.000000\n",
       "75%        115.000000\n",
       "max       1591.000000\n",
       "Name: message_length, dtype: float64"
      ]
     },
     "execution_count": 21,
     "metadata": {},
     "output_type": "execute_result"
    }
   ],
   "source": [
    "# find average length of the message\n",
    "data['message_length'] = data['cleaned_message'].apply(len)\n",
    "\n",
    "data['message_length'].describe()"
   ]
  },
  {
   "cell_type": "code",
   "execution_count": 30,
   "metadata": {},
   "outputs": [],
   "source": [
    "# Tokenize text\n",
    "tokenizer = Tokenizer(num_words=5000)\n",
    "tokenizer.fit_on_texts(data['cleaned_message'])\n",
    "\n",
    "X = tokenizer.texts_to_sequences(data['cleaned_message'])\n",
    "X = pad_sequences(X, maxlen=200, padding='post')\n",
    "\n",
    "y = data['is_onsite'].astype(int)\n"
   ]
  },
  {
   "cell_type": "code",
   "execution_count": 32,
   "metadata": {},
   "outputs": [],
   "source": [
    "import pickle\n",
    "\n",
    "with open('tokenizer_config.pkl', 'wb') as f:\n",
    "    pickle.dump(tokenizer, f)\n",
    "\n"
   ]
  },
  {
   "cell_type": "code",
   "execution_count": 23,
   "metadata": {},
   "outputs": [
    {
     "data": {
      "text/plain": [
       "is_onsite\n",
       "0    49674\n",
       "1     9087\n",
       "Name: count, dtype: int64"
      ]
     },
     "execution_count": 23,
     "metadata": {},
     "output_type": "execute_result"
    }
   ],
   "source": [
    "y.value_counts()"
   ]
  },
  {
   "cell_type": "code",
   "execution_count": 24,
   "metadata": {},
   "outputs": [],
   "source": [
    "# Handle class imbalance using SMOTE\n",
    "smote = SMOTE(random_state=42)\n",
    "X_res, y_res = smote.fit_resample(X, y)\n"
   ]
  },
  {
   "cell_type": "code",
   "execution_count": 25,
   "metadata": {},
   "outputs": [
    {
     "data": {
      "text/plain": [
       "(99348, 99348)"
      ]
     },
     "execution_count": 25,
     "metadata": {},
     "output_type": "execute_result"
    }
   ],
   "source": [
    "len(X_res), len(y_res)"
   ]
  },
  {
   "cell_type": "code",
   "execution_count": 26,
   "metadata": {},
   "outputs": [
    {
     "data": {
      "text/plain": [
       "(79478, 19870)"
      ]
     },
     "execution_count": 26,
     "metadata": {},
     "output_type": "execute_result"
    }
   ],
   "source": [
    "# Split data into training and testing sets\n",
    "X_train, X_test, y_train, y_test = train_test_split(X_res, y_res, test_size=0.2, random_state=42)\n",
    "len(X_train), len(X_test)\n"
   ]
  },
  {
   "cell_type": "code",
   "execution_count": 27,
   "metadata": {},
   "outputs": [
    {
     "name": "stdout",
     "output_type": "stream",
     "text": [
      "Model: \"sequential_1\"\n",
      "_________________________________________________________________\n",
      " Layer (type)                Output Shape              Param #   \n",
      "=================================================================\n",
      " embedding_1 (Embedding)     (None, 200, 100)          500000    \n",
      "                                                                 \n",
      " lstm_1 (LSTM)               (None, 128)               117248    \n",
      "                                                                 \n",
      " dense_1 (Dense)             (None, 1)                 129       \n",
      "                                                                 \n",
      "=================================================================\n",
      "Total params: 617377 (2.36 MB)\n",
      "Trainable params: 617377 (2.36 MB)\n",
      "Non-trainable params: 0 (0.00 Byte)\n",
      "_________________________________________________________________\n"
     ]
    }
   ],
   "source": [
    "# Build LSTM model\n",
    "model = Sequential()\n",
    "model.add(Embedding(input_dim=5000, output_dim=100, input_length=200))\n",
    "model.add(LSTM(128, dropout=0.2, recurrent_dropout=0.2))\n",
    "model.add(Dense(1, activation='sigmoid'))\n",
    "\n",
    "model.compile(loss='binary_crossentropy', optimizer='adam', metrics=['accuracy'])\n",
    "model.summary()\n"
   ]
  },
  {
   "cell_type": "code",
   "execution_count": 28,
   "metadata": {},
   "outputs": [
    {
     "name": "stdout",
     "output_type": "stream",
     "text": [
      "Epoch 1/10\n",
      "994/994 [==============================] - 1107s 1s/step - loss: 0.6944 - accuracy: 0.4987 - val_loss: 0.6930 - val_accuracy: 0.5056\n",
      "Epoch 2/10\n",
      "994/994 [==============================] - 929s 935ms/step - loss: 0.6946 - accuracy: 0.5025 - val_loss: 0.6952 - val_accuracy: 0.5057\n",
      "Epoch 3/10\n",
      "994/994 [==============================] - 930s 935ms/step - loss: 0.6935 - accuracy: 0.5050 - val_loss: 0.6928 - val_accuracy: 0.4951\n",
      "Epoch 4/10\n",
      "994/994 [==============================] - 951s 957ms/step - loss: 0.6934 - accuracy: 0.5016 - val_loss: 0.6927 - val_accuracy: 0.5056\n",
      "Epoch 5/10\n",
      "994/994 [==============================] - 1251s 1s/step - loss: 0.6933 - accuracy: 0.4992 - val_loss: 0.6926 - val_accuracy: 0.5056\n",
      "Epoch 6/10\n",
      "994/994 [==============================] - 1663s 2s/step - loss: 0.6934 - accuracy: 0.5000 - val_loss: 0.6928 - val_accuracy: 0.5056\n",
      "Epoch 7/10\n",
      "994/994 [==============================] - 1946s 2s/step - loss: 0.6931 - accuracy: 0.4998 - val_loss: 0.6927 - val_accuracy: 0.5056\n",
      "Epoch 8/10\n",
      "994/994 [==============================] - 1595s 2s/step - loss: 0.6932 - accuracy: 0.5005 - val_loss: 0.6926 - val_accuracy: 0.4960\n",
      "Epoch 9/10\n",
      "994/994 [==============================] - 1086s 1s/step - loss: 0.6298 - accuracy: 0.5883 - val_loss: 0.3819 - val_accuracy: 0.8346\n",
      "Epoch 10/10\n",
      "994/994 [==============================] - 1061s 1s/step - loss: 0.2912 - accuracy: 0.8814 - val_loss: 0.2455 - val_accuracy: 0.9017\n"
     ]
    }
   ],
   "source": [
    "# Train model\n",
    "history = model.fit(X_train, y_train, epochs=10, batch_size=64, validation_split=0.2)\n"
   ]
  },
  {
   "cell_type": "code",
   "execution_count": 29,
   "metadata": {},
   "outputs": [
    {
     "name": "stdout",
     "output_type": "stream",
     "text": [
      "621/621 [==============================] - 45s 73ms/step - loss: 0.2562 - accuracy: 0.8967\n",
      "Test Accuracy: 0.8967287540435791\n"
     ]
    }
   ],
   "source": [
    "# Evaluate model\n",
    "loss, accuracy = model.evaluate(X_test, y_test)\n",
    "print(f'Test Accuracy: {accuracy}')\n"
   ]
  },
  {
   "cell_type": "code",
   "execution_count": 30,
   "metadata": {},
   "outputs": [
    {
     "name": "stdout",
     "output_type": "stream",
     "text": [
      "621/621 [==============================] - 43s 68ms/step\n",
      "              precision    recall  f1-score   support\n",
      "\n",
      "           0       0.91      0.88      0.90     10049\n",
      "           1       0.88      0.92      0.90      9821\n",
      "\n",
      "    accuracy                           0.90     19870\n",
      "   macro avg       0.90      0.90      0.90     19870\n",
      "weighted avg       0.90      0.90      0.90     19870\n",
      "\n",
      "ROC-AUC: 0.8969496265975165\n"
     ]
    }
   ],
   "source": [
    "from sklearn.metrics import classification_report, roc_auc_score\n",
    "\n",
    "y_pred = (model.predict(X_test) > 0.5).astype(\"int32\")\n",
    "print(classification_report(y_test, y_pred))\n",
    "print(\"ROC-AUC:\", roc_auc_score(y_test, y_pred))\n"
   ]
  },
  {
   "cell_type": "code",
   "execution_count": 31,
   "metadata": {},
   "outputs": [
    {
     "data": {
      "image/png": "[encoded data removed]",
      "text/plain": [
       "<Figure size 1200x400 with 2 Axes>"
      ]
     },
     "metadata": {},
     "output_type": "display_data"
    }
   ],
   "source": [
    "import matplotlib.pyplot as plt\n",
    "\n",
    "# Plot training & validation accuracy values\n",
    "plt.figure(figsize=(12, 4))\n",
    "plt.subplot(1, 2, 1)\n",
    "plt.plot(history.history['accuracy'])\n",
    "plt.plot(history.history['val_accuracy'])\n",
    "plt.title('Model accuracy')\n",
    "plt.ylabel('Accuracy')\n",
    "plt.xlabel('Epoch')\n",
    "plt.legend(['Train', 'Validation'], loc='upper left')\n",
    "\n",
    "# Plot training & validation loss values\n",
    "plt.subplot(1, 2, 2)\n",
    "plt.plot(history.history['loss'])\n",
    "plt.plot(history.history['val_loss'])\n",
    "plt.title('Model loss')\n",
    "plt.ylabel('Loss')\n",
    "plt.xlabel('Epoch')\n",
    "plt.legend(['Train', 'Validation'], loc='upper left')\n",
    "\n",
    "plt.show()\n"
   ]
  },
  {
   "cell_type": "code",
   "execution_count": 32,
   "metadata": {},
   "outputs": [
    {
     "name": "stderr",
     "output_type": "stream",
     "text": [
      "c:\\Users\\ahini\\anaconda3\\Lib\\site-packages\\keras\\src\\engine\\training.py:3079: UserWarning: You are saving your model as an HDF5 file via `model.save()`. This file format is considered legacy. We recommend using instead the native Keras format, e.g. `model.save('my_model.keras')`.\n",
      "  saving_api.save_model(\n"
     ]
    }
   ],
   "source": [
    "# save model\n",
    "model.save('model/onsite_request_model.h5')"
   ]
  },
  {
   "cell_type": "code",
   "execution_count": 33,
   "metadata": {},
   "outputs": [
    {
     "name": "stdout",
     "output_type": "stream",
     "text": [
      "1/1 [==============================] - 0s 46ms/step\n",
      "The message is predicted to be: Onsite\n"
     ]
    }
   ],
   "source": [
    "# test with new message\n",
    "message = \"there is a leeakage in toilet, please send someone to fix it\"\n",
    "\n",
    "# Preprocess the new message\n",
    "message = preprocess_text(message)\n",
    "\n",
    "# Tokenize the new message\n",
    "message_seq = tokenizer.texts_to_sequences([message])\n",
    "message_pad = pad_sequences(message_seq, maxlen=200, padding='post')\n",
    "\n",
    "# Predict the category\n",
    "prediction = model.predict(message_pad)\n",
    "prediction = 'Onsite' if prediction > 0.5 else 'Not Onsite'\n",
    "\n",
    "print(f\"The message is predicted to be: {prediction}\")"
   ]
  },
  {
   "cell_type": "code",
   "execution_count": 24,
   "metadata": {},
   "outputs": [],
   "source": [
    "def inference(message, tokenizer, model, maxlen=200):\n",
    "    \"\"\"\n",
    "    Perform inference to predict the category of the message.\n",
    "\n",
    "    Parameters:\n",
    "    - message: str, the input message\n",
    "    - tokenizer: the tokenizer used to preprocess the text\n",
    "    - model: the trained model used for prediction\n",
    "    - maxlen: int, the maximum length of the sequence for padding (default: 200)\n",
    "\n",
    "    Returns:\n",
    "    - str, the predicted category ('Onsite' or 'Not Onsite')\n",
    "    \"\"\"\n",
    "    # Preprocess the new message\n",
    "    message = preprocess_text(message)\n",
    "\n",
    "    # Tokenize the new message\n",
    "    message_seq = tokenizer.texts_to_sequences([message])\n",
    "    message_pad = pad_sequences(message_seq, maxlen=maxlen, padding='post')\n",
    "\n",
    "    # Predict the category\n",
    "    prediction = model.predict(message_pad)\n",
    "    prediction = 'Onsite' if prediction > 0.5 else 'Not Onsite'\n",
    "\n",
    "    return prediction\n",
    "\n",
    "\n"
   ]
  },
  {
   "cell_type": "code",
   "execution_count": 35,
   "metadata": {},
   "outputs": [
    {
     "name": "stdout",
     "output_type": "stream",
     "text": [
      "1/1 [==============================] - 0s 42ms/step\n",
      "The message is predicted to be: Onsite\n"
     ]
    }
   ],
   "source": [
    "# Test the inference function\n",
    "message = \"My room is very dirty, please clean it.\"\n",
    "prediction = inference(message, tokenizer, model)\n",
    "print(f\"The message is predicted to be: {prediction}\")"
   ]
  },
  {
   "cell_type": "code",
   "execution_count": 36,
   "metadata": {},
   "outputs": [
    {
     "name": "stdout",
     "output_type": "stream",
     "text": [
      "1/1 [==============================] - 0s 43ms/step\n",
      "The message is predicted to be: Not Onsite\n"
     ]
    }
   ],
   "source": [
    "message = \"Is there a car today, I want to go to the airport?\"\n",
    "prediction = inference(message, tokenizer, model)\n",
    "print(f\"The message is predicted to be: {prediction}\")"
   ]
  },
  {
   "cell_type": "code",
   "execution_count": 37,
   "metadata": {},
   "outputs": [
    {
     "name": "stdout",
     "output_type": "stream",
     "text": [
      "1/1 [==============================] - 0s 38ms/step\n",
      "1/1 [==============================] - 0s 56ms/step\n",
      "1/1 [==============================] - 0s 50ms/step\n",
      "1/1 [==============================] - 0s 41ms/step\n",
      "1/1 [==============================] - 0s 41ms/step\n",
      "1/1 [==============================] - 0s 39ms/step\n",
      "1/1 [==============================] - 0s 42ms/step\n",
      "1/1 [==============================] - 0s 40ms/step\n",
      "1/1 [==============================] - 0s 40ms/step\n",
      "1/1 [==============================] - 0s 42ms/step\n",
      "1/1 [==============================] - 0s 40ms/step\n",
      "1/1 [==============================] - 0s 39ms/step\n",
      "1/1 [==============================] - 0s 39ms/step\n",
      "1/1 [==============================] - 0s 41ms/step\n",
      "1/1 [==============================] - 0s 37ms/step\n",
      "1/1 [==============================] - 0s 38ms/step\n",
      "1/1 [==============================] - 0s 37ms/step\n",
      "Message: The air conditioner in the villa is not working, can someone come and fix it?\n",
      "Predicted Category: Onsite\n",
      "\n",
      "Message: There's a leak in the bathroom, can you send maintenance?\n",
      "Predicted Category: Onsite\n",
      "\n",
      "Message: The lights in the hallway are flickering, could you send someone to check it?\n",
      "Predicted Category: Not Onsite\n",
      "\n",
      "Message: Can we get an extra bed in our room?\n",
      "Predicted Category: Not Onsite\n",
      "\n",
      "Message: I would like to request a daily cleaning service.\n",
      "Predicted Category: Not Onsite\n",
      "\n",
      "Message: Can you arrange for a birthday cake in our room?\n",
      "Predicted Category: Not Onsite\n",
      "\n",
      "Message: Can you tell me more about the facilities at the hotel?\n",
      "Predicted Category: Not Onsite\n",
      "\n",
      "Message: What amenities are available in the villa?\n",
      "Predicted Category: Not Onsite\n",
      "\n",
      "Message: Is there a swimming pool at the property?\n",
      "Predicted Category: Onsite\n",
      "\n",
      "Message: Is it possible to check in earlier, around 10 AM?\n",
      "Predicted Category: Not Onsite\n",
      "\n",
      "Message: Can we get an early check-in for our booking tomorrow?\n",
      "Predicted Category: Not Onsite\n",
      "\n",
      "Message: We arrive early in the morning, can we check in at 8 AM?\n",
      "Predicted Category: Not Onsite\n",
      "\n",
      "Message: Can we extend our stay by two more nights?\n",
      "Predicted Category: Not Onsite\n",
      "\n",
      "Message: Is it possible to extend our booking until next Friday?\n",
      "Predicted Category: Not Onsite\n",
      "\n",
      "Message: We'd like to stay an extra day, can you accommodate that?\n",
      "Predicted Category: Not Onsite\n",
      "\n",
      "Message: My guest ID is 12345, please confirm my booking.\n",
      "Predicted Category: Not Onsite\n",
      "\n",
      "Message: Here is my guest ID: 67890, can you check my reservation?\n",
      "Predicted Category: Not Onsite\n",
      "\n"
     ]
    }
   ],
   "source": [
    "messages = [\n",
    "    # Category: request_onsite\n",
    "    \"The air conditioner in the villa is not working, can someone come and fix it?\",\n",
    "    \"There's a leak in the bathroom, can you send maintenance?\",\n",
    "    \"The lights in the hallway are flickering, could you send someone to check it?\",\n",
    "\n",
    "    # Category: request_extra_service\n",
    "    \"Can we get an extra bed in our room?\",\n",
    "    \"I would like to request a daily cleaning service.\",\n",
    "    \"Can you arrange for a birthday cake in our room?\",\n",
    "\n",
    "    # Category: query_property_information\n",
    "    \"Can you tell me more about the facilities at the hotel?\",\n",
    "    \"What amenities are available in the villa?\",\n",
    "    \"Is there a swimming pool at the property?\",\n",
    "\n",
    "    # Category: request_early_check_in\n",
    "    \"Is it possible to check in earlier, around 10 AM?\",\n",
    "    \"Can we get an early check-in for our booking tomorrow?\",\n",
    "    \"We arrive early in the morning, can we check in at 8 AM?\",\n",
    "\n",
    "    # Category: request_extension\n",
    "    \"Can we extend our stay by two more nights?\",\n",
    "    \"Is it possible to extend our booking until next Friday?\",\n",
    "    \"We'd like to stay an extra day, can you accommodate that?\",\n",
    "\n",
    "    # Category: information_guest_id\n",
    "    \"My guest ID is 12345, please confirm my booking.\",\n",
    "    \"Here is my guest ID: 67890, can you check my reservation?\"\n",
    "]\n",
    "\n",
    "# Perform inference for each message\n",
    "results = []\n",
    "for message in messages:\n",
    "    prediction = inference(message, tokenizer, model)\n",
    "    results.append((message, prediction))\n",
    "\n",
    "# Display the results\n",
    "for message, prediction in results:\n",
    "    print(f\"Message: {message}\")\n",
    "    print(f\"Predicted Category: {prediction}\")\n",
    "    print()"
   ]
  },
  {
   "cell_type": "code",
   "execution_count": 25,
   "metadata": {},
   "outputs": [
    {
     "ename": "NameError",
     "evalue": "name 'model' is not defined",
     "output_type": "error",
     "traceback": [
      "\u001b[1;31m---------------------------------------------------------------------------\u001b[0m",
      "\u001b[1;31mNameError\u001b[0m                                 Traceback (most recent call last)",
      "Cell \u001b[1;32mIn[25], line 2\u001b[0m\n\u001b[0;32m      1\u001b[0m message \u001b[38;5;241m=\u001b[39m\u001b[38;5;124m\"\u001b[39m\u001b[38;5;124mmy room’s door is broken, help me! \u001b[39m\u001b[38;5;124m\"\u001b[39m\n\u001b[1;32m----> 2\u001b[0m prediction \u001b[38;5;241m=\u001b[39m inference(message, tokenizer, model)\n\u001b[0;32m      3\u001b[0m \u001b[38;5;28mprint\u001b[39m(\u001b[38;5;124mf\u001b[39m\u001b[38;5;124m\"\u001b[39m\u001b[38;5;124mThe message is predicted to be: \u001b[39m\u001b[38;5;132;01m{\u001b[39;00mprediction\u001b[38;5;132;01m}\u001b[39;00m\u001b[38;5;124m\"\u001b[39m)\n",
      "\u001b[1;31mNameError\u001b[0m: name 'model' is not defined"
     ]
    }
   ],
   "source": [
    "message =\"my room’s door is broken, help me! \"\n",
    "prediction = inference(message, tokenizer, model)\n",
    "print(f\"The message is predicted to be: {prediction}\")"
   ]
  },
  {
   "cell_type": "code",
   "execution_count": 31,
   "metadata": {},
   "outputs": [
    {
     "name": "stdout",
     "output_type": "stream",
     "text": [
      "1/1 [==============================] - 0s 256ms/step\n",
      "The message is predicted to be: Onsite\n"
     ]
    }
   ],
   "source": [
    "# load model\n",
    "from tensorflow.keras.models import load_model\n",
    "\n",
    "model = load_model('onsite_request_model.h5')\n",
    "\n",
    "message =\"my room’s door is broken, help me! \"\n",
    "prediction = inference(message, tokenizer, model)\n",
    "print(f\"The message is predicted to be: {prediction}\")"
   ]
  }
 ],
 "metadata": {
  "kernelspec": {
   "display_name": "base",
   "language": "python",
   "name": "python3"
  },
  "language_info": {
   "codemirror_mode": {
    "name": "ipython",
    "version": 3
   },
   "file_extension": ".py",
   "mimetype": "text/x-python",
   "name": "python",
   "nbconvert_exporter": "python",
   "pygments_lexer": "ipython3",
   "version": "3.11.4"
  }
 },
 "nbformat": 4,
 "nbformat_minor": 2
}
